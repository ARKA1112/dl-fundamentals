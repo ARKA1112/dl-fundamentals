{
 "cells": [
  {
   "cell_type": "code",
   "execution_count": 2,
   "id": "ef8340a3-60d2-48be-9ab1-9d6bdc8aef7d",
   "metadata": {},
   "outputs": [],
   "source": [
    "import torch.nn as nn\n",
    "from torch.optim import Adam"
   ]
  },
  {
   "cell_type": "code",
   "execution_count": 3,
   "id": "3dc17af2-cda0-48a4-9f1a-df465ddbe896",
   "metadata": {},
   "outputs": [],
   "source": [
    "layer = nn.Linear(10,1)"
   ]
  },
  {
   "cell_type": "code",
   "execution_count": null,
   "id": "13fe87d4-d31a-42e8-901e-ea2ced37638a",
   "metadata": {},
   "outputs": [],
   "source": [
    "optimizer = Adam(layer.parameters(),"
   ]
  }
 ],
 "metadata": {
  "kernelspec": {
   "display_name": "Python 3 (ipykernel)",
   "language": "python",
   "name": "python3"
  },
  "language_info": {
   "codemirror_mode": {
    "name": "ipython",
    "version": 3
   },
   "file_extension": ".py",
   "mimetype": "text/x-python",
   "name": "python",
   "nbconvert_exporter": "python",
   "pygments_lexer": "ipython3",
   "version": "3.10.8"
  }
 },
 "nbformat": 4,
 "nbformat_minor": 5
}
